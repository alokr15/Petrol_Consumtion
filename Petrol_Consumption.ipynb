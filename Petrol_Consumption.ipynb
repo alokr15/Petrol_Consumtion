{
 "cells": [
  {
   "cell_type": "markdown",
   "metadata": {},
   "source": [
    "## Import Dataset"
   ]
  },
  {
   "cell_type": "code",
   "execution_count": 2,
   "metadata": {},
   "outputs": [],
   "source": [
    "import pandas as pd"
   ]
  },
  {
   "cell_type": "code",
   "execution_count": 3,
   "metadata": {
    "scrolled": true
   },
   "outputs": [
    {
     "data": {
      "text/html": [
       "<div>\n",
       "<style scoped>\n",
       "    .dataframe tbody tr th:only-of-type {\n",
       "        vertical-align: middle;\n",
       "    }\n",
       "\n",
       "    .dataframe tbody tr th {\n",
       "        vertical-align: top;\n",
       "    }\n",
       "\n",
       "    .dataframe thead th {\n",
       "        text-align: right;\n",
       "    }\n",
       "</style>\n",
       "<table border=\"1\" class=\"dataframe\">\n",
       "  <thead>\n",
       "    <tr style=\"text-align: right;\">\n",
       "      <th></th>\n",
       "      <th>Petrol_tax</th>\n",
       "      <th>Average_income</th>\n",
       "      <th>Paved_Highways</th>\n",
       "      <th>Population_Driver_licence(%)</th>\n",
       "      <th>Petrol_Consumption</th>\n",
       "    </tr>\n",
       "  </thead>\n",
       "  <tbody>\n",
       "    <tr>\n",
       "      <th>0</th>\n",
       "      <td>9.0</td>\n",
       "      <td>3571</td>\n",
       "      <td>1976</td>\n",
       "      <td>0.525</td>\n",
       "      <td>541</td>\n",
       "    </tr>\n",
       "    <tr>\n",
       "      <th>1</th>\n",
       "      <td>9.0</td>\n",
       "      <td>4092</td>\n",
       "      <td>1250</td>\n",
       "      <td>0.572</td>\n",
       "      <td>524</td>\n",
       "    </tr>\n",
       "    <tr>\n",
       "      <th>2</th>\n",
       "      <td>9.0</td>\n",
       "      <td>3865</td>\n",
       "      <td>1586</td>\n",
       "      <td>0.580</td>\n",
       "      <td>561</td>\n",
       "    </tr>\n",
       "    <tr>\n",
       "      <th>3</th>\n",
       "      <td>7.5</td>\n",
       "      <td>4870</td>\n",
       "      <td>2351</td>\n",
       "      <td>0.529</td>\n",
       "      <td>414</td>\n",
       "    </tr>\n",
       "    <tr>\n",
       "      <th>4</th>\n",
       "      <td>8.0</td>\n",
       "      <td>4399</td>\n",
       "      <td>431</td>\n",
       "      <td>0.544</td>\n",
       "      <td>410</td>\n",
       "    </tr>\n",
       "  </tbody>\n",
       "</table>\n",
       "</div>"
      ],
      "text/plain": [
       "   Petrol_tax  Average_income  Paved_Highways  Population_Driver_licence(%)  \\\n",
       "0         9.0            3571            1976                         0.525   \n",
       "1         9.0            4092            1250                         0.572   \n",
       "2         9.0            3865            1586                         0.580   \n",
       "3         7.5            4870            2351                         0.529   \n",
       "4         8.0            4399             431                         0.544   \n",
       "\n",
       "   Petrol_Consumption  \n",
       "0                 541  \n",
       "1                 524  \n",
       "2                 561  \n",
       "3                 414  \n",
       "4                 410  "
      ]
     },
     "execution_count": 3,
     "metadata": {},
     "output_type": "execute_result"
    }
   ],
   "source": [
    "dataset = pd.read_csv('petrol_consumption.csv')\n",
    "dataset.head()"
   ]
  },
  {
   "cell_type": "code",
   "execution_count": 4,
   "metadata": {
    "scrolled": false
   },
   "outputs": [
    {
     "name": "stdout",
     "output_type": "stream",
     "text": [
      "48 records\n"
     ]
    }
   ],
   "source": [
    "print(dataset.shape[0], 'records')"
   ]
  },
  {
   "cell_type": "markdown",
   "metadata": {},
   "source": [
    "## Data Preprocessing"
   ]
  },
  {
   "cell_type": "code",
   "execution_count": 5,
   "metadata": {},
   "outputs": [],
   "source": [
    "X = dataset.iloc[:,0:4].values\n",
    "y = dataset.iloc[:,-1].values"
   ]
  },
  {
   "cell_type": "code",
   "execution_count": 6,
   "metadata": {},
   "outputs": [
    {
     "data": {
      "text/plain": [
       "array([541, 524, 561, 414, 410, 457, 344, 467, 464, 498, 580, 471, 525,\n",
       "       508, 566, 635, 603, 714, 865, 640, 649, 540, 464, 547, 460, 566,\n",
       "       577, 631, 574, 534, 571, 554, 577, 628, 487, 644, 640, 704, 648,\n",
       "       968, 587, 699, 632, 591, 782, 510, 610, 524], dtype=int64)"
      ]
     },
     "execution_count": 6,
     "metadata": {},
     "output_type": "execute_result"
    }
   ],
   "source": [
    "y"
   ]
  },
  {
   "cell_type": "markdown",
   "metadata": {},
   "source": [
    "## Split data into training and test"
   ]
  },
  {
   "cell_type": "code",
   "execution_count": 7,
   "metadata": {},
   "outputs": [],
   "source": [
    "from sklearn.model_selection import train_test_split\n",
    "\n",
    "X_train, X_test, y_train, y_test = train_test_split(X,y, test_size= 0.2, random_state=5)"
   ]
  },
  {
   "cell_type": "code",
   "execution_count": 8,
   "metadata": {
    "scrolled": true
   },
   "outputs": [
    {
     "name": "stdout",
     "output_type": "stream",
     "text": [
      "(38, 4)\n",
      "(10, 4)\n",
      "(38,)\n",
      "(10,)\n"
     ]
    }
   ],
   "source": [
    "print(X_train.shape)\n",
    "print(X_test.shape)\n",
    "print(y_train.shape)\n",
    "print(y_test.shape)"
   ]
  },
  {
   "cell_type": "markdown",
   "metadata": {},
   "source": [
    "## Normalize the training and test features"
   ]
  },
  {
   "cell_type": "code",
   "execution_count": 9,
   "metadata": {},
   "outputs": [],
   "source": [
    "from sklearn.preprocessing import StandardScaler\n",
    "\n",
    "sc = StandardScaler()\n",
    "\n",
    "X_train_norm = sc.fit_transform(X_train)\n",
    "X_test_norm = sc.fit_transform(X_test)"
   ]
  },
  {
   "cell_type": "markdown",
   "metadata": {},
   "source": [
    "# Model creation"
   ]
  },
  {
   "cell_type": "code",
   "execution_count": 10,
   "metadata": {},
   "outputs": [],
   "source": [
    "import tensorflow as tf\n"
   ]
  },
  {
   "cell_type": "code",
   "execution_count": 11,
   "metadata": {},
   "outputs": [],
   "source": [
    "input_layer = tf.keras.Input(shape=(X.shape[1],))\n",
    "dense_layer_1 = tf.keras.layers.Dense(100, activation='relu')(input_layer)\n",
    "dense_layer_2 = tf.keras.layers.Dense(50, activation='relu')(dense_layer_1)\n",
    "dense_layer_3 = tf.keras.layers.Dense(25, activation='relu')(dense_layer_2)\n",
    "predictions = tf.keras.layers.Dense(1)(dense_layer_3)\n",
    "\n",
    "model = tf.keras.Model(inputs=input_layer, outputs=predictions)"
   ]
  },
  {
   "cell_type": "code",
   "execution_count": 13,
   "metadata": {
    "scrolled": true
   },
   "outputs": [],
   "source": [
    "optimiser = tf.keras.optimizers.Adam()\n",
    "model.compile(optimizer=optimiser, loss='mean_squared_error', metrics=['mean_squared_error'])"
   ]
  },
  {
   "cell_type": "code",
   "execution_count": 16,
   "metadata": {},
   "outputs": [
    {
     "name": "stdout",
     "output_type": "stream",
     "text": [
      "Train on 30 samples, validate on 8 samples\n",
      "Epoch 1/100\n",
      "30/30 [==============================] - 0s 1ms/sample - loss: 1504.1656 - mean_squared_error: 1504.1655 - val_loss: 17498.7567 - val_mean_squared_error: 17498.7559\n",
      "Epoch 2/100\n",
      "30/30 [==============================] - 0s 1ms/sample - loss: 1441.6337 - mean_squared_error: 1441.6337 - val_loss: 17871.8987 - val_mean_squared_error: 17871.8984\n",
      "Epoch 3/100\n",
      "30/30 [==============================] - 0s 1ms/sample - loss: 1462.5890 - mean_squared_error: 1462.5891 - val_loss: 17487.0260 - val_mean_squared_error: 17487.0273\n",
      "Epoch 4/100\n",
      "30/30 [==============================] - 0s 1ms/sample - loss: 1472.1326 - mean_squared_error: 1472.1327 - val_loss: 17691.4150 - val_mean_squared_error: 17691.4141\n",
      "Epoch 5/100\n",
      "30/30 [==============================] - 0s 1ms/sample - loss: 1482.2713 - mean_squared_error: 1482.2714 - val_loss: 18098.6800 - val_mean_squared_error: 18098.6797\n",
      "Epoch 6/100\n",
      "30/30 [==============================] - 0s 1ms/sample - loss: 1422.1994 - mean_squared_error: 1422.1993 - val_loss: 17049.2095 - val_mean_squared_error: 17049.2090\n",
      "Epoch 7/100\n",
      "30/30 [==============================] - 0s 1ms/sample - loss: 1398.8372 - mean_squared_error: 1398.8373 - val_loss: 17304.6474 - val_mean_squared_error: 17304.6484\n",
      "Epoch 8/100\n",
      "30/30 [==============================] - 0s 1ms/sample - loss: 1420.3705 - mean_squared_error: 1420.3704 - val_loss: 17216.8168 - val_mean_squared_error: 17216.8164\n",
      "Epoch 9/100\n",
      "30/30 [==============================] - 0s 1ms/sample - loss: 1455.9021 - mean_squared_error: 1455.9021 - val_loss: 17702.5083 - val_mean_squared_error: 17702.5078\n",
      "Epoch 10/100\n",
      "30/30 [==============================] - 0s 1ms/sample - loss: 1398.6054 - mean_squared_error: 1398.6055 - val_loss: 16504.5235 - val_mean_squared_error: 16504.5234\n",
      "Epoch 11/100\n",
      "30/30 [==============================] - 0s 1ms/sample - loss: 1378.0096 - mean_squared_error: 1378.0096 - val_loss: 17147.9407 - val_mean_squared_error: 17147.9414\n",
      "Epoch 12/100\n",
      "30/30 [==============================] - 0s 1ms/sample - loss: 1384.0054 - mean_squared_error: 1384.0055 - val_loss: 17181.1991 - val_mean_squared_error: 17181.1992\n",
      "Epoch 13/100\n",
      "30/30 [==============================] - 0s 1ms/sample - loss: 1378.5818 - mean_squared_error: 1378.5818 - val_loss: 17555.3706 - val_mean_squared_error: 17555.3711\n",
      "Epoch 14/100\n",
      "30/30 [==============================] - 0s 1ms/sample - loss: 1372.7331 - mean_squared_error: 1372.7332 - val_loss: 16657.6148 - val_mean_squared_error: 16657.6152\n",
      "Epoch 15/100\n",
      "30/30 [==============================] - 0s 1ms/sample - loss: 1388.2156 - mean_squared_error: 1388.2155 - val_loss: 16718.3858 - val_mean_squared_error: 16718.3848\n",
      "Epoch 16/100\n",
      "30/30 [==============================] - 0s 1ms/sample - loss: 1350.5535 - mean_squared_error: 1350.5535 - val_loss: 16965.5037 - val_mean_squared_error: 16965.5039\n",
      "Epoch 17/100\n",
      "30/30 [==============================] - 0s 1ms/sample - loss: 1353.6070 - mean_squared_error: 1353.6071 - val_loss: 16617.0223 - val_mean_squared_error: 16617.0215\n",
      "Epoch 18/100\n",
      "30/30 [==============================] - 0s 1ms/sample - loss: 1396.6187 - mean_squared_error: 1396.6187 - val_loss: 17050.2708 - val_mean_squared_error: 17050.2695\n",
      "Epoch 19/100\n",
      "30/30 [==============================] - 0s 1ms/sample - loss: 1309.0893 - mean_squared_error: 1309.0892 - val_loss: 16549.1363 - val_mean_squared_error: 16549.1367\n",
      "Epoch 20/100\n",
      "30/30 [==============================] - 0s 1ms/sample - loss: 1350.2043 - mean_squared_error: 1350.2045 - val_loss: 16950.7652 - val_mean_squared_error: 16950.7656\n",
      "Epoch 21/100\n",
      "30/30 [==============================] - 0s 1ms/sample - loss: 1357.1981 - mean_squared_error: 1357.1981 - val_loss: 16959.7612 - val_mean_squared_error: 16959.7617\n",
      "Epoch 22/100\n",
      "30/30 [==============================] - 0s 1ms/sample - loss: 1378.4117 - mean_squared_error: 1378.4117 - val_loss: 15639.0024 - val_mean_squared_error: 15639.0029\n",
      "Epoch 23/100\n",
      "30/30 [==============================] - 0s 1ms/sample - loss: 1344.5488 - mean_squared_error: 1344.5488 - val_loss: 16801.9922 - val_mean_squared_error: 16801.9922\n",
      "Epoch 24/100\n",
      "30/30 [==============================] - 0s 1ms/sample - loss: 1323.9282 - mean_squared_error: 1323.9282 - val_loss: 16091.0506 - val_mean_squared_error: 16091.0498\n",
      "Epoch 25/100\n",
      "30/30 [==============================] - 0s 1ms/sample - loss: 1291.1069 - mean_squared_error: 1291.1071 - val_loss: 16444.1826 - val_mean_squared_error: 16444.1816\n",
      "Epoch 26/100\n",
      "30/30 [==============================] - 0s 1ms/sample - loss: 1284.2841 - mean_squared_error: 1284.2841 - val_loss: 16577.6551 - val_mean_squared_error: 16577.6562\n",
      "Epoch 27/100\n",
      "30/30 [==============================] - 0s 1ms/sample - loss: 1297.7870 - mean_squared_error: 1297.7870 - val_loss: 16812.1381 - val_mean_squared_error: 16812.1387\n",
      "Epoch 28/100\n",
      "30/30 [==============================] - 0s 1ms/sample - loss: 1379.7197 - mean_squared_error: 1379.7196 - val_loss: 15775.3064 - val_mean_squared_error: 15775.3066\n",
      "Epoch 29/100\n",
      "30/30 [==============================] - 0s 1ms/sample - loss: 1227.2301 - mean_squared_error: 1227.2302 - val_loss: 16539.6341 - val_mean_squared_error: 16539.6348\n",
      "Epoch 30/100\n",
      "30/30 [==============================] - 0s 1ms/sample - loss: 1333.7573 - mean_squared_error: 1333.7574 - val_loss: 15746.6862 - val_mean_squared_error: 15746.6855\n",
      "Epoch 31/100\n",
      "30/30 [==============================] - 0s 1ms/sample - loss: 1296.6306 - mean_squared_error: 1296.6307 - val_loss: 16186.2305 - val_mean_squared_error: 16186.2305\n",
      "Epoch 32/100\n",
      "30/30 [==============================] - 0s 1ms/sample - loss: 1268.2394 - mean_squared_error: 1268.2394 - val_loss: 16962.8927 - val_mean_squared_error: 16962.8926\n",
      "Epoch 33/100\n",
      "30/30 [==============================] - 0s 1ms/sample - loss: 1244.4184 - mean_squared_error: 1244.4183 - val_loss: 15697.1720 - val_mean_squared_error: 15697.1719\n",
      "Epoch 34/100\n",
      "30/30 [==============================] - 0s 1ms/sample - loss: 1248.2547 - mean_squared_error: 1248.2545 - val_loss: 15927.4777 - val_mean_squared_error: 15927.4775\n",
      "Epoch 35/100\n",
      "30/30 [==============================] - 0s 1ms/sample - loss: 1298.0077 - mean_squared_error: 1298.0077 - val_loss: 15835.9944 - val_mean_squared_error: 15835.9951\n",
      "Epoch 36/100\n",
      "30/30 [==============================] - 0s 1ms/sample - loss: 1334.9470 - mean_squared_error: 1334.9470 - val_loss: 16495.4191 - val_mean_squared_error: 16495.4180\n",
      "Epoch 37/100\n",
      "30/30 [==============================] - 0s 1ms/sample - loss: 1238.7482 - mean_squared_error: 1238.7483 - val_loss: 15831.8470 - val_mean_squared_error: 15831.8467\n",
      "Epoch 38/100\n",
      "30/30 [==============================] - 0s 1ms/sample - loss: 1238.6467 - mean_squared_error: 1238.6469 - val_loss: 15424.9143 - val_mean_squared_error: 15424.9141\n",
      "Epoch 39/100\n",
      "30/30 [==============================] - 0s 1ms/sample - loss: 1210.3539 - mean_squared_error: 1210.3540 - val_loss: 15544.4908 - val_mean_squared_error: 15544.4912\n",
      "Epoch 40/100\n",
      "30/30 [==============================] - 0s 898us/sample - loss: 1298.8813 - mean_squared_error: 1298.8812 - val_loss: 16365.7642 - val_mean_squared_error: 16365.7646\n",
      "Epoch 41/100\n",
      "30/30 [==============================] - 0s 1ms/sample - loss: 1215.1237 - mean_squared_error: 1215.1238 - val_loss: 15708.9595 - val_mean_squared_error: 15708.9600\n",
      "Epoch 42/100\n",
      "30/30 [==============================] - 0s 1ms/sample - loss: 1246.4826 - mean_squared_error: 1246.4825 - val_loss: 15894.6586 - val_mean_squared_error: 15894.6592\n",
      "Epoch 43/100\n",
      "30/30 [==============================] - 0s 997us/sample - loss: 1209.0635 - mean_squared_error: 1209.0636 - val_loss: 15587.4397 - val_mean_squared_error: 15587.4395\n",
      "Epoch 44/100\n",
      "30/30 [==============================] - 0s 964us/sample - loss: 1258.8576 - mean_squared_error: 1258.8575 - val_loss: 14896.5425 - val_mean_squared_error: 14896.5430\n",
      "Epoch 45/100\n",
      "30/30 [==============================] - 0s 1ms/sample - loss: 1278.4121 - mean_squared_error: 1278.4120 - val_loss: 16172.8290 - val_mean_squared_error: 16172.8291\n",
      "Epoch 46/100\n",
      "30/30 [==============================] - 0s 964us/sample - loss: 1263.4758 - mean_squared_error: 1263.4758 - val_loss: 15155.0663 - val_mean_squared_error: 15155.0664\n"
     ]
    },
    {
     "name": "stdout",
     "output_type": "stream",
     "text": [
      "Epoch 47/100\n",
      "30/30 [==============================] - 0s 898us/sample - loss: 1182.1558 - mean_squared_error: 1182.1558 - val_loss: 15157.6152 - val_mean_squared_error: 15157.6152\n",
      "Epoch 48/100\n",
      "30/30 [==============================] - 0s 997us/sample - loss: 1195.2565 - mean_squared_error: 1195.2565 - val_loss: 15833.8215 - val_mean_squared_error: 15833.8213\n",
      "Epoch 49/100\n",
      "30/30 [==============================] - 0s 898us/sample - loss: 1186.7237 - mean_squared_error: 1186.7235 - val_loss: 15317.6866 - val_mean_squared_error: 15317.6865\n",
      "Epoch 50/100\n",
      "30/30 [==============================] - 0s 864us/sample - loss: 1192.5016 - mean_squared_error: 1192.5017 - val_loss: 15689.9446 - val_mean_squared_error: 15689.9453\n",
      "Epoch 51/100\n",
      "30/30 [==============================] - 0s 864us/sample - loss: 1167.9325 - mean_squared_error: 1167.9325 - val_loss: 15363.2030 - val_mean_squared_error: 15363.2031\n",
      "Epoch 52/100\n",
      "30/30 [==============================] - 0s 864us/sample - loss: 1164.4413 - mean_squared_error: 1164.4414 - val_loss: 15554.9279 - val_mean_squared_error: 15554.9277\n",
      "Epoch 53/100\n",
      "30/30 [==============================] - 0s 864us/sample - loss: 1156.1062 - mean_squared_error: 1156.1062 - val_loss: 15189.9806 - val_mean_squared_error: 15189.9805\n",
      "Epoch 54/100\n",
      "30/30 [==============================] - 0s 964us/sample - loss: 1228.2678 - mean_squared_error: 1228.2678 - val_loss: 14997.2975 - val_mean_squared_error: 14997.2969\n",
      "Epoch 55/100\n",
      "30/30 [==============================] - 0s 1ms/sample - loss: 1149.8074 - mean_squared_error: 1149.8074 - val_loss: 15797.2332 - val_mean_squared_error: 15797.2334\n",
      "Epoch 56/100\n",
      "30/30 [==============================] - 0s 931us/sample - loss: 1304.3252 - mean_squared_error: 1304.3251 - val_loss: 15206.8947 - val_mean_squared_error: 15206.8945\n",
      "Epoch 57/100\n",
      "30/30 [==============================] - 0s 932us/sample - loss: 1299.5633 - mean_squared_error: 1299.5632 - val_loss: 15975.9634 - val_mean_squared_error: 15975.9639\n",
      "Epoch 58/100\n",
      "30/30 [==============================] - 0s 863us/sample - loss: 1169.8062 - mean_squared_error: 1169.8062 - val_loss: 14911.4763 - val_mean_squared_error: 14911.4756\n",
      "Epoch 59/100\n",
      "30/30 [==============================] - 0s 963us/sample - loss: 1170.4263 - mean_squared_error: 1170.4263 - val_loss: 15730.1676 - val_mean_squared_error: 15730.1670\n",
      "Epoch 60/100\n",
      "30/30 [==============================] - 0s 931us/sample - loss: 1121.2284 - mean_squared_error: 1121.2284 - val_loss: 14964.0998 - val_mean_squared_error: 14964.0996\n",
      "Epoch 61/100\n",
      "30/30 [==============================] - 0s 897us/sample - loss: 1267.1903 - mean_squared_error: 1267.1903 - val_loss: 14118.3669 - val_mean_squared_error: 14118.3672\n",
      "Epoch 62/100\n",
      "30/30 [==============================] - 0s 864us/sample - loss: 1157.1312 - mean_squared_error: 1157.1312 - val_loss: 15247.4410 - val_mean_squared_error: 15247.4414\n",
      "Epoch 63/100\n",
      "30/30 [==============================] - 0s 931us/sample - loss: 1167.6163 - mean_squared_error: 1167.6163 - val_loss: 15052.1378 - val_mean_squared_error: 15052.1377\n",
      "Epoch 64/100\n",
      "30/30 [==============================] - 0s 997us/sample - loss: 1148.5984 - mean_squared_error: 1148.5984 - val_loss: 14567.8954 - val_mean_squared_error: 14567.8955\n",
      "Epoch 65/100\n",
      "30/30 [==============================] - 0s 1ms/sample - loss: 1108.4992 - mean_squared_error: 1108.4993 - val_loss: 15753.5414 - val_mean_squared_error: 15753.5410\n",
      "Epoch 66/100\n",
      "30/30 [==============================] - 0s 1ms/sample - loss: 1153.8430 - mean_squared_error: 1153.8430 - val_loss: 14730.5016 - val_mean_squared_error: 14730.5020\n",
      "Epoch 67/100\n",
      "30/30 [==============================] - 0s 1ms/sample - loss: 1159.4111 - mean_squared_error: 1159.4110 - val_loss: 14949.4405 - val_mean_squared_error: 14949.4414\n",
      "Epoch 68/100\n",
      "30/30 [==============================] - 0s 1ms/sample - loss: 1147.8081 - mean_squared_error: 1147.8081 - val_loss: 14657.9842 - val_mean_squared_error: 14657.9844\n",
      "Epoch 69/100\n",
      "30/30 [==============================] - 0s 1ms/sample - loss: 1117.5181 - mean_squared_error: 1117.5181 - val_loss: 15462.4207 - val_mean_squared_error: 15462.4199\n",
      "Epoch 70/100\n",
      "30/30 [==============================] - 0s 1ms/sample - loss: 1101.9765 - mean_squared_error: 1101.9764 - val_loss: 14978.7840 - val_mean_squared_error: 14978.7842\n",
      "Epoch 71/100\n",
      "30/30 [==============================] - 0s 1ms/sample - loss: 1089.0803 - mean_squared_error: 1089.0803 - val_loss: 14678.7065 - val_mean_squared_error: 14678.7061\n",
      "Epoch 72/100\n",
      "30/30 [==============================] - 0s 1ms/sample - loss: 1139.9437 - mean_squared_error: 1139.9437 - val_loss: 14801.0129 - val_mean_squared_error: 14801.0127\n",
      "Epoch 73/100\n",
      "30/30 [==============================] - 0s 1ms/sample - loss: 1096.8407 - mean_squared_error: 1096.8407 - val_loss: 14758.5397 - val_mean_squared_error: 14758.5400\n",
      "Epoch 74/100\n",
      "30/30 [==============================] - 0s 1ms/sample - loss: 1106.8272 - mean_squared_error: 1106.8273 - val_loss: 15501.1776 - val_mean_squared_error: 15501.1777\n",
      "Epoch 75/100\n",
      "30/30 [==============================] - 0s 998us/sample - loss: 1079.3184 - mean_squared_error: 1079.3185 - val_loss: 14863.1698 - val_mean_squared_error: 14863.1699\n",
      "Epoch 76/100\n",
      "30/30 [==============================] - 0s 1ms/sample - loss: 1105.1549 - mean_squared_error: 1105.1548 - val_loss: 14376.0719 - val_mean_squared_error: 14376.0713\n",
      "Epoch 77/100\n",
      "30/30 [==============================] - 0s 1ms/sample - loss: 1114.4032 - mean_squared_error: 1114.4034 - val_loss: 14866.8450 - val_mean_squared_error: 14866.8447\n",
      "Epoch 78/100\n",
      "30/30 [==============================] - 0s 1ms/sample - loss: 1103.5056 - mean_squared_error: 1103.5055 - val_loss: 14779.6482 - val_mean_squared_error: 14779.6484\n",
      "Epoch 79/100\n",
      "30/30 [==============================] - 0s 1ms/sample - loss: 1058.0796 - mean_squared_error: 1058.0796 - val_loss: 14877.4918 - val_mean_squared_error: 14877.4922\n",
      "Epoch 80/100\n",
      "30/30 [==============================] - 0s 964us/sample - loss: 1092.2026 - mean_squared_error: 1092.2025 - val_loss: 14435.3866 - val_mean_squared_error: 14435.3867\n",
      "Epoch 81/100\n",
      "30/30 [==============================] - 0s 1ms/sample - loss: 1092.1363 - mean_squared_error: 1092.1364 - val_loss: 14044.4221 - val_mean_squared_error: 14044.4219\n",
      "Epoch 82/100\n",
      "30/30 [==============================] - 0s 1ms/sample - loss: 1071.8931 - mean_squared_error: 1071.8931 - val_loss: 14835.5326 - val_mean_squared_error: 14835.5332\n",
      "Epoch 83/100\n",
      "30/30 [==============================] - 0s 1ms/sample - loss: 1063.3127 - mean_squared_error: 1063.3126 - val_loss: 15011.8065 - val_mean_squared_error: 15011.8066\n",
      "Epoch 84/100\n",
      "30/30 [==============================] - 0s 1ms/sample - loss: 1077.5201 - mean_squared_error: 1077.5201 - val_loss: 14734.4031 - val_mean_squared_error: 14734.4023\n",
      "Epoch 85/100\n",
      "30/30 [==============================] - 0s 997us/sample - loss: 1025.4338 - mean_squared_error: 1025.4337 - val_loss: 14683.9805 - val_mean_squared_error: 14683.9805\n",
      "Epoch 86/100\n",
      "30/30 [==============================] - 0s 898us/sample - loss: 1052.9857 - mean_squared_error: 1052.9857 - val_loss: 14605.2798 - val_mean_squared_error: 14605.2793\n",
      "Epoch 87/100\n",
      "30/30 [==============================] - 0s 997us/sample - loss: 1041.2113 - mean_squared_error: 1041.2114 - val_loss: 14256.7138 - val_mean_squared_error: 14256.7139\n",
      "Epoch 88/100\n",
      "30/30 [==============================] - 0s 864us/sample - loss: 1059.0614 - mean_squared_error: 1059.0614 - val_loss: 14087.6266 - val_mean_squared_error: 14087.6270\n",
      "Epoch 89/100\n",
      "30/30 [==============================] - 0s 898us/sample - loss: 1054.1774 - mean_squared_error: 1054.1774 - val_loss: 14657.7836 - val_mean_squared_error: 14657.7832\n",
      "Epoch 90/100\n",
      "30/30 [==============================] - 0s 1ms/sample - loss: 1037.7186 - mean_squared_error: 1037.7186 - val_loss: 14732.6003 - val_mean_squared_error: 14732.5996\n",
      "Epoch 91/100\n",
      "30/30 [==============================] - 0s 1ms/sample - loss: 1025.0037 - mean_squared_error: 1025.0038 - val_loss: 14376.6309 - val_mean_squared_error: 14376.6309\n",
      "Epoch 92/100\n",
      "30/30 [==============================] - 0s 1ms/sample - loss: 1012.1033 - mean_squared_error: 1012.1034 - val_loss: 14213.5957 - val_mean_squared_error: 14213.5957\n"
     ]
    },
    {
     "name": "stdout",
     "output_type": "stream",
     "text": [
      "Epoch 93/100\n",
      "30/30 [==============================] - 0s 997us/sample - loss: 1154.4844 - mean_squared_error: 1154.4844 - val_loss: 15071.3401 - val_mean_squared_error: 15071.3398\n",
      "Epoch 94/100\n",
      "30/30 [==============================] - 0s 1ms/sample - loss: 1063.8227 - mean_squared_error: 1063.8228 - val_loss: 14403.6005 - val_mean_squared_error: 14403.6006\n",
      "Epoch 95/100\n",
      "30/30 [==============================] - 0s 1ms/sample - loss: 1035.7711 - mean_squared_error: 1035.7711 - val_loss: 14141.8745 - val_mean_squared_error: 14141.8750\n",
      "Epoch 96/100\n",
      "30/30 [==============================] - 0s 1ms/sample - loss: 1046.1528 - mean_squared_error: 1046.1528 - val_loss: 14456.6625 - val_mean_squared_error: 14456.6631\n",
      "Epoch 97/100\n",
      "30/30 [==============================] - 0s 1ms/sample - loss: 1019.5874 - mean_squared_error: 1019.5873 - val_loss: 14025.4930 - val_mean_squared_error: 14025.4932\n",
      "Epoch 98/100\n",
      "30/30 [==============================] - 0s 1ms/sample - loss: 998.7216 - mean_squared_error: 998.7216 - val_loss: 14824.2584 - val_mean_squared_error: 14824.2578\n",
      "Epoch 99/100\n",
      "30/30 [==============================] - 0s 1ms/sample - loss: 1011.0781 - mean_squared_error: 1011.0781 - val_loss: 14503.2740 - val_mean_squared_error: 14503.2734\n",
      "Epoch 100/100\n",
      "30/30 [==============================] - 0s 1ms/sample - loss: 1064.6647 - mean_squared_error: 1064.6647 - val_loss: 15007.7131 - val_mean_squared_error: 15007.7129\n"
     ]
    }
   ],
   "source": [
    "training = model.fit(X_train_norm, y_train, batch_size=2, epochs=100,\n",
    "                    verbose=1, validation_split=0.2)"
   ]
  },
  {
   "cell_type": "code",
   "execution_count": 17,
   "metadata": {},
   "outputs": [
    {
     "name": "stdout",
     "output_type": "stream",
     "text": [
      "Training error: 62.64961853523267\n",
      "Test error: 92.37919742296513\n"
     ]
    }
   ],
   "source": [
    "from sklearn.metrics import mean_squared_error\n",
    "import numpy as np\n",
    "\n",
    "pred_trn = model.predict(X_train_norm)\n",
    "err_trn = np.sqrt(mean_squared_error(y_train, pred_trn))\n",
    "print('Training error:', err_trn)\n",
    "\n",
    "pred = model.predict(X_test_norm)\n",
    "err = np.sqrt(mean_squared_error(y_test, pred))\n",
    "print('Test error:', err)"
   ]
  }
 ],
 "metadata": {
  "kernelspec": {
   "display_name": "Python 3",
   "language": "python",
   "name": "python3"
  },
  "language_info": {
   "codemirror_mode": {
    "name": "ipython",
    "version": 3
   },
   "file_extension": ".py",
   "mimetype": "text/x-python",
   "name": "python",
   "nbconvert_exporter": "python",
   "pygments_lexer": "ipython3",
   "version": "3.6.9"
  }
 },
 "nbformat": 4,
 "nbformat_minor": 4
}
